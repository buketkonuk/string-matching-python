{
 "cells": [
  {
   "cell_type": "code",
   "execution_count": 49,
   "metadata": {},
   "outputs": [],
   "source": [
    "import pandas as pd\n",
    "pd.options.display.max_rows = 12"
   ]
  },
  {
   "cell_type": "code",
   "execution_count": 50,
   "metadata": {},
   "outputs": [],
   "source": [
    "data = pd.read_csv(\"testdata.csv\")\n",
    "brands = pd.read_csv(\"jw.csv\")"
   ]
  },
  {
   "cell_type": "code",
   "execution_count": 51,
   "metadata": {},
   "outputs": [
    {
     "data": {
      "text/html": [
       "<div>\n",
       "<style scoped>\n",
       "    .dataframe tbody tr th:only-of-type {\n",
       "        vertical-align: middle;\n",
       "    }\n",
       "\n",
       "    .dataframe tbody tr th {\n",
       "        vertical-align: top;\n",
       "    }\n",
       "\n",
       "    .dataframe thead th {\n",
       "        text-align: right;\n",
       "    }\n",
       "</style>\n",
       "<table border=\"1\" class=\"dataframe\">\n",
       "  <thead>\n",
       "    <tr style=\"text-align: right;\">\n",
       "      <th></th>\n",
       "      <th>Brand</th>\n",
       "      <th>Brand Line</th>\n",
       "    </tr>\n",
       "  </thead>\n",
       "  <tbody>\n",
       "    <tr>\n",
       "      <th>0</th>\n",
       "      <td>Johnnie Walker Scotch</td>\n",
       "      <td>Explorers' Club The Adventurer Scotch</td>\n",
       "    </tr>\n",
       "    <tr>\n",
       "      <th>1</th>\n",
       "      <td>Johnnie Walker Scotch</td>\n",
       "      <td>Explorers' Club The Gold Route Scotch</td>\n",
       "    </tr>\n",
       "    <tr>\n",
       "      <th>2</th>\n",
       "      <td>Johnnie Walker Scotch</td>\n",
       "      <td>Explorers' Club The Royal Route Scotch</td>\n",
       "    </tr>\n",
       "    <tr>\n",
       "      <th>3</th>\n",
       "      <td>Johnnie Walker Scotch</td>\n",
       "      <td>Explorers' Club The Spice Road Scotch</td>\n",
       "    </tr>\n",
       "    <tr>\n",
       "      <th>4</th>\n",
       "      <td>Johnnie Walker Scotch</td>\n",
       "      <td>Johnnie Walker 1820 Scotch</td>\n",
       "    </tr>\n",
       "  </tbody>\n",
       "</table>\n",
       "</div>"
      ],
      "text/plain": [
       "                   Brand                              Brand Line\n",
       "0  Johnnie Walker Scotch   Explorers' Club The Adventurer Scotch\n",
       "1  Johnnie Walker Scotch   Explorers' Club The Gold Route Scotch\n",
       "2  Johnnie Walker Scotch  Explorers' Club The Royal Route Scotch\n",
       "3  Johnnie Walker Scotch   Explorers' Club The Spice Road Scotch\n",
       "4  Johnnie Walker Scotch              Johnnie Walker 1820 Scotch"
      ]
     },
     "execution_count": 51,
     "metadata": {},
     "output_type": "execute_result"
    }
   ],
   "source": [
    "brands.head()"
   ]
  },
  {
   "cell_type": "code",
   "execution_count": 52,
   "metadata": {},
   "outputs": [
    {
     "data": {
      "text/html": [
       "<div>\n",
       "<style scoped>\n",
       "    .dataframe tbody tr th:only-of-type {\n",
       "        vertical-align: middle;\n",
       "    }\n",
       "\n",
       "    .dataframe tbody tr th {\n",
       "        vertical-align: top;\n",
       "    }\n",
       "\n",
       "    .dataframe thead th {\n",
       "        text-align: right;\n",
       "    }\n",
       "</style>\n",
       "<table border=\"1\" class=\"dataframe\">\n",
       "  <thead>\n",
       "    <tr style=\"text-align: right;\">\n",
       "      <th></th>\n",
       "      <th>Product Name</th>\n",
       "    </tr>\n",
       "  </thead>\n",
       "  <tbody>\n",
       "    <tr>\n",
       "      <th>0</th>\n",
       "      <td>Johnnie Walker Pack Whisky Black Label Johnnie...</td>\n",
       "    </tr>\n",
       "    <tr>\n",
       "      <th>1</th>\n",
       "      <td>Johnnie Walker Pack Whisky Red Label Johnnie W...</td>\n",
       "    </tr>\n",
       "    <tr>\n",
       "      <th>2</th>\n",
       "      <td>Chivas Regal Pack Whisky 12 Anos Chivas Regal ...</td>\n",
       "    </tr>\n",
       "  </tbody>\n",
       "</table>\n",
       "</div>"
      ],
      "text/plain": [
       "                                        Product Name\n",
       "0  Johnnie Walker Pack Whisky Black Label Johnnie...\n",
       "1  Johnnie Walker Pack Whisky Red Label Johnnie W...\n",
       "2  Chivas Regal Pack Whisky 12 Anos Chivas Regal ..."
      ]
     },
     "execution_count": 52,
     "metadata": {},
     "output_type": "execute_result"
    }
   ],
   "source": [
    "#data.head()\n",
    "data.iloc[0:3]"
   ]
  },
  {
   "cell_type": "code",
   "execution_count": 76,
   "metadata": {},
   "outputs": [
    {
     "ename": "SyntaxError",
     "evalue": "unexpected EOF while parsing (<ipython-input-76-5ceb196e2255>, line 6)",
     "output_type": "error",
     "traceback": [
      "\u001b[0;36m  File \u001b[0;32m\"<ipython-input-76-5ceb196e2255>\"\u001b[0;36m, line \u001b[0;32m6\u001b[0m\n\u001b[0;31m    data[i.str[3]] = data[data['Product Name'].str.contains(brand in i for brand in brands)\u001b[0m\n\u001b[0m                                                                                           ^\u001b[0m\n\u001b[0;31mSyntaxError\u001b[0m\u001b[0;31m:\u001b[0m unexpected EOF while parsing\n"
     ]
    }
   ],
   "source": [
    "#data['CR'] = data[data['Product Name'].str.lower().str.contains('chivas regal')]\n",
    "#data['JW'] = data[data['Product Name'].str.lower().str.contains('johnnie walker')]\n",
    "data\n",
    "brands = ['Johnnie Walker', 'Chivas Regal']\n",
    "for i in data['Product Name']:\n",
    "    data[i.str[3]] = data[data['Product Name'].str.contains(brand in i for brand in brands)\n"
   ]
  },
  {
   "cell_type": "code",
   "execution_count": 24,
   "metadata": {},
   "outputs": [
    {
     "name": "stdout",
     "output_type": "stream",
     "text": [
      "item: Johnnie Walker Pack Whisky Black Label Johnnie Walker 12x1L, has a brand: True\n",
      "item: Johnnie Walker Pack Whisky Red Label Johnnie Walker 12 X 1L, has a brand: True\n",
      "item: Chivas Regal Pack Whisky 12 Anos Chivas Regal 12X1L, has a brand: True\n",
      "item: Johnnie Walker Pack Whisky Black Label 12 Anos Johnnie Walker 4X1L, has a brand: True\n",
      "item: Johnnie Walker Pack Whisky Double Black Johnnie Walker 4X1L, has a brand: True\n",
      "item: Johnnie Walker Pack Whisky Red Label Johnnie Walker 4 x 1L, has a brand: True\n",
      "item: Johnnie Walker Pack Whisky Double Black Johnnie Walker 12X1L, has a brand: True\n",
      "item: Royal Salute Pack Whisky Chivas 21 Anos Royal Salute 2x700ml, has a brand: False\n",
      "item: Johnnie Walker Pack Whisky Gold Reserve Johnnie Walker 6X750ml, has a brand: True\n",
      "item: Jack Daniel's Pack Whisky Old No. 7 Jack Daniels 6 X 1L, has a brand: False\n",
      "item: Old Parr Pack Whisky 12 Anos Old Parr 4x1L, has a brand: False\n",
      "item: Johnnie Walker Pack Whisky Gold Reserve Johnnie Walker 2 x 750ml, has a brand: True\n",
      "item: Johnnie Walker Pack Whisky Black Label 12 Anos Johnnie Walker 2X1L, has a brand: True\n",
      "item: Johnnie Walker Whisky Green Label Johnnie Walker 750m, has a brand: True\n",
      "item: Jack Daniel's Pack Whiskey Old No7 Jack Daniels 2x1L, has a brand: False\n",
      "item: Johnnie Walker Pack Whisky Spice Road Johnnie Walker 4X1L, has a brand: True\n",
      "item: Chivas Regal Whisky 12 Anos Chivas Regal 4X1L, has a brand: True\n",
      "item: Jack Daniel's Pack Whisky Old No 7 Jack Honey Twinpack Jack Daniels 2x1L, has a brand: False\n",
      "item: Buchanan Pack Whisky De Luxe 12 Anos Buchanans 2X1L, has a brand: False\n",
      "item: Johnnie Walker Pack Whisky Blue Label Tiffany + Gold Reserve Johnnie Walker 2X750Ml, has a brand: True\n",
      "item: Johnnie Walker Pack Whisky Blue Label Tiffany Johnnie Walker 2x750ml, has a brand: True\n",
      "item: Buchanan Pack Whisky Deluxe 12 Anos + Special Reserve 18 Anos Buchanan's 1l+750ml, has a brand: False\n",
      "item: Buchanan's Pack Whisky 12 anos Buchanans 12x1l, has a brand: False\n",
      "item: Ballantine's Pack Whisky 12 Anos Ballantine's 12x1l, has a brand: False\n",
      "item: Chivas Regal Whisky 18 anos Chivas Regal 6x750ml, has a brand: True\n",
      "item: Jack Daniel's Whisky Honey Jack Daniels 1L, has a brand: False\n",
      "item: Johnnie Walker Pack Spice Road Johnnie Walker 2X1L, has a brand: True\n",
      "item: John Jameson Pack Whisky Jameson 2X1L, has a brand: False\n",
      "item: Johnnie Walker Pack Whisky Red Label Johnnie Walker 2X1L, has a brand: True\n",
      "item:  Pack Whisky 12 anos Buchanans De Luxe 4x1l, has a brand: False\n",
      "item: Ballantine's Ballantine's Finest 12x1L, has a brand: False\n",
      "item: Johnnie Walker Whisky Xr 21 Anos Johnnie Walker 750ml, has a brand: True\n",
      "item: Glenfiddich Pack Whisky Cask Collection Malt Select Glenfiddich 2 x 1L, has a brand: False\n",
      "item: Johnnie Walker Pack Whisky Double Black Johnnie Walker 2X1L, has a brand: True\n",
      "item: Cardhu Whisky Malt 12 Anos Cardhu 1L, has a brand: False\n",
      "item: Jack Daniel's Whisky Tennessee Old N 7 Jack Daniels 1L, has a brand: False\n",
      "item: Chivas Regal Pack Whisky 12 anos + Extra Chivas Regal 4x1l, has a brand: True\n",
      "item: Ballantine's Pack Ballantine's 12 anos 4x1l, has a brand: False\n",
      "item: Johnnie Walker Pack Whisky Green Label Johnnie Walker 2x750ml, has a brand: True\n",
      "item: Jack Daniel's Pack Whisky Tennessee Honey Jack Daniels 2x1L, has a brand: False\n",
      "item: Johnnie Walker Pack Whisky Platinum 18 Anos Johnnie Walker 2X750Ml, has a brand: True\n",
      "item: Johnnie Walker Whisky Red Label Johnnie Walker 3L, has a brand: True\n",
      "item: Cardhu Whisky Malt 12Yo Cardhu 2X1l, has a brand: False\n",
      "item: Buchanan Pack Whisky Special Reserve 18 Anos Buchanans 2X750Ml, has a brand: False\n",
      "item: Jack Daniel's Pack Whisky Tennessee Fire + Tennessee Honey Jack Daniel's 2 x 1L, has a brand: False\n",
      "item: Grant's Pack Whisky Grant‚Äôs 6 X 1L, has a brand: False\n",
      "item: Monkey Shoulder Whisky Monkey Shoulder 1L, has a brand: False\n",
      "item: Glenfiddich Whisky Cask Collection Malt Glenfiddich 1L, has a brand: False\n",
      "item: Famous Grouse Pack Finest The Famous Grouse 4x1l, has a brand: False\n",
      "item: Ballantine's Whisky Finest Ballantines 4X1L, has a brand: False\n",
      "item: Johnnie Walker Pack Whisky Double Black Gold Label Reserve Johnnie Walker 1l+750ml, has a brand: True\n",
      "item: Bulleit Whisky Bourbon Bulleit 700Ml, has a brand: False\n",
      "item: Balvenie Whisky 12 Anos Triple Cask Balvenie 1L, has a brand: False\n",
      "item: Jack Daniel's Whiskey Gentleman Jack Daniels 1L, has a brand: False\n",
      "item: Chivas Regal Pack Whisky 12 Anos Chivas Regal 2X1L, has a brand: True\n",
      "item: Talisker Whisky Dark Storm Talisker 1L, has a brand: False\n",
      "item: Buchanan Whisky De Luxe 12 Anos Buchanans 1L, has a brand: False\n",
      "item: Johnnie Walker Whisky Black Label 12 anos Johnnie Walker 1l, has a brand: True\n",
      "item: Chivas Regal Pack Whisky 12 anos + Extra Chivas Regal 2x1l, has a brand: True\n",
      "item: Old Parr Pack Old Parr 2X1L, has a brand: False\n",
      "item: Glenmorangie Whisky Glenmorangie Malte 10 Anos 1L, has a brand: False\n",
      "item: Cutty Sark Whisky Cuttysark 1L, has a brand: False\n",
      "item: Johnnie Walker Whisky Gold Reserve Johnnie Walker 750ml, has a brand: True\n",
      "item: Jack Daniel's Pack Whiskey Gentleman Jack Daniels 2x1l, has a brand: False\n",
      "item: Grant's Pack Whisky Grants 2X1L, has a brand: False\n",
      "item: Jack Daniel's Pack Whisky Old No7 + Tennessee Fire Jack Daniels 2x1l, has a brand: False\n",
      "item: Chivas Regal Pack Whisky 12 anos 1l + Whisky 18 anos Chivas Regal 750ml, has a brand: True\n",
      "item: Glenlivet Whisky Master Distillers Reserve Solera Vatted Glenlivet 1L, has a brand: False\n",
      "item: Royal Salute Whisky Eternal Reserve Royal Salute 700Ml, has a brand: False\n",
      "item: Johnnie Walker Whisky Red Label Johnnie Walker 1L, has a brand: True\n",
      "item: Johnnie Walker Whisky Double Black Johnnie Walker 1L, has a brand: True\n",
      "item: Jack Daniel's Whiskey Master Distillery Jack Daniel's 1L, has a brand: False\n",
      "item: Buchanan Whisky Special Reserve 18 Anos Buchanans 750Ml, has a brand: False\n",
      "item: Jack Daniel's Whisky Old N 7 Jack Daniels 1 75L, has a brand: False\n",
      "item: Jack Daniel's Pack Whiskey Tennessee Fire Jack Daniels 2x1l, has a brand: False\n",
      "item: Monkey Shoulder Pack Whisky Monkey Shoulder 2x1L, has a brand: False\n",
      "item: Dalmore Whisky 12 Anos Single Malt Dalmore 1L, has a brand: False\n",
      "item: Chivas Regal Pack Whisky 12 anons Chivas Regal Extra 2x1l, has a brand: True\n",
      "item: Macallan Whisky Macallan Makers 700Ml, has a brand: False\n",
      "item: Glenfiddich Whisky Vintage Cask Single Malt Glenfiddich 1L, has a brand: False\n",
      "item: Buchanan Whisky Malte Master Unaged Buchanans 1L, has a brand: False\n",
      "item: Famous Grouse Whisky Smoky Black The Famous Grouse 1L, has a brand: False\n",
      "item: Chivas Regal Whisky 12 Anos Chivas Regal Extra 1L, has a brand: True\n",
      "item: Chivas Regal Whisky 12 Anos Chivas Regal 1L, has a brand: True\n",
      "item: White Horse Pack Whisky White Horse 2X1L, has a brand: False\n",
      "item: Jack Daniel's Kit Whisky Com Suporte Jack Daniel's 3L, has a brand: False\n",
      "item: Glenlivet Whisky Master Distillers Reserve Small Batch Glenlivet 1L, has a brand: False\n",
      "item: Dimple Whisky Dimple Golden Selection 1l, has a brand: False\n",
      "item: Something Special Whisky Something Special 4x1l, has a brand: False\n",
      "item: Jim Beam Whisky White Jim Beam 1L, has a brand: False\n",
      "item: Aberfeldy Whisky 12 Anos Aberfeldy 750Ml, has a brand: False\n",
      "item: Glenlivet Whisky Nadurra Oloroso First Fill Glenlivet 1L, has a brand: False\n",
      "item: Jack Daniel's Whisky Single Barrel Jack Daniel's 750ml, has a brand: False\n",
      "item: Johnnie Walker Whisky Spice Road Johnnie Walker 1L, has a brand: True\n",
      "item: Hibiki Whisky Hibiki Harmony 700ml, has a brand: False\n",
      "item: John Jameson Whisky Caskmates Jameson 1L, has a brand: False\n",
      "item: Haig Club Whisky Single Grain Haig Club Scotch 700ml, has a brand: False\n",
      "item: Bulleit Pack Whisky Bulleit Bourbon 2X700ml, has a brand: False\n",
      "item: Makers Mark Pack Whisky Maker's Mark Jim Beam 2x1l, has a brand: False\n",
      "item: Makers Mark Whisky Bourbon Maker's Mark 1L, has a brand: False\n",
      "item: White Horse Whisky White Horse 1L, has a brand: False\n",
      "item: Fireball Whisky Cinnamon Fireball 1L, has a brand: False\n",
      "item: Johnnie Walker Whisky The Adventurer Johnnie Walker 1L, has a brand: True\n",
      "item: Singleton Whisky  Single Malt Double Matured Of Glendullan Singleton 1l, has a brand: False\n",
      "item: Ballantine's Whisky Ballantines 12 Anos 1L, has a brand: False\n",
      "item: Woodford Reserve Whisky Woodford Reserve 750ml, has a brand: False\n",
      "item: Glenfiddich Whisky 18 Anos Glenfiddich 700Ml, has a brand: False\n",
      "item: Glenmorangie Whisky Malte Glenmorangie 2x1l, has a brand: False\n",
      "item: Jack Daniel's Whisky Jack Daniel's Premium 500ml, has a brand: False\n",
      "item: Royal Salute Whisky 21 Anos Royal Salute 700Ml, has a brand: False\n",
      "item: Johnnie Walker Whisky Platinum Aged 18 Years Old Johnnie Walker 750ml, has a brand: True\n",
      "item: J & B Whisky Rare J&B 1l, has a brand: False\n",
      "item: Johnnie Walker Whisky The Spice Road Johnnie Walker 200Ml, has a brand: True\n",
      "item: Woodford Reserve Reserve Double Oaked Woodford 750ml, has a brand: False\n",
      "item: Jim Beam Pack Honey Jim Beam 2X1l, has a brand: False\n",
      "item: Tullamore Dew Whisky Original Tullamore Dew 1L, has a brand: False\n",
      "item: Chivas Regal Whisky Brothers Blend Blended Chivas Regal 1L, has a brand: True\n",
      "item: Johnnie Walker Whisky Royal Route Johnnie Walker 1L, has a brand: True\n",
      "item: Aultmore Whisky 12 anos Aultmore 1L, has a brand: False\n",
      "item: Famous Grouse Pack Whisky The Famous Grouse Finest 2X1l, has a brand: False\n",
      "item: Glenlivet Whisky Master Distillers Reserve Glenlivet 1L, has a brand: False\n",
      "item: Isle Of Jura Whisky 10 anos Jura 1l, has a brand: False\n",
      "item: Chivas Regal Pack Whisky 18 anos + 21 anos Royal Salute Chivas Regal 2x750ml, has a brand: True\n",
      "item: Jack Daniel's Whiskey Gold Old No 27 Jack Daniels 700ml, has a brand: False\n",
      "item: Jack Daniel's Whisky Sinatra Select Jack Daniels 1L, has a brand: False\n",
      "item: Jim Beam Whisky Honey Jim Beam 1L, has a brand: False\n",
      "item: Macallan Whisky Rare Cask Black The Macallan 700ml, has a brand: False\n",
      "item: Glenfiddich Whisky Reserve Bourbon Glenfiddich 1L, has a brand: False\n",
      "item: Balvenie Whisky 16 Anos Triple Cask Balvenie 700ml, has a brand: False\n",
      "item: Woodford Whisky 452 Woodford Reserve 1l, has a brand: False\n",
      "item: Ballantine's Whisky Ballantines Finest 1L, has a brand: False\n",
      "item: Something Special Whisky Something Special 1L, has a brand: False\n",
      "item: Famous Grouse Whisky Finest The Famous Grouse 1L, has a brand: False\n",
      "item: Grant's Whisky Elementary Carbon Williams Grants 1L, has a brand: False\n",
      "item: Isle Of Jura Pack Whisky Superstition Isle Of Jura 2x1l, has a brand: False\n",
      "item: John Jameson Whisky Signature Reserve Jameson 1L, has a brand: False\n",
      "item: Ballantine's Whisky Ballantines 17 Anos 750Ml, has a brand: False\n",
      "item: Cutty Sark Pack Whisky Cutty Sark 4X1L, has a brand: False\n",
      "item: Glen Deveron Whisky 16 Anos Glen Deveron 1L, has a brand: False\n",
      "item: Bruichladdich Whisky The Classic Laddies Bruichladdich 700ml, has a brand: False\n",
      "item: John Jameson Whisky Lively Jameson 1L, has a brand: False\n",
      "item: Highland Park Whisky Highland Park Einar 1L, has a brand: False\n",
      "item: John Jameson Whisky Irish Jameson 1L, has a brand: False\n",
      "item: Jim Beam Pack Jim Beam Bourbon 2x1l, has a brand: False\n",
      "item: John Jameson Whisky Round Jameson 1L, has a brand: False\n",
      "item: Ardbeg Whisky Malte Ardbeg 10Yo 46% 100Cl, has a brand: False\n",
      "item: Singleton Whisky Glendullan Single Malt Singleton 1l, has a brand: False\n",
      "item: Glen Deveron Pack Glen Deveron 16 anos 2x1l, has a brand: False\n",
      "item: Isle Of Jura Whisky Superstition Jura 1l, has a brand: False\n",
      "item: Grant's Whisky Oxygen Grants 1L, has a brand: False\n",
      "item: Wild Turkey Wild Turkey 101Campari 1l, has a brand: False\n",
      "item: Isle Of Jura Whisky  Jura 16Yo 43% 100Cl, has a brand: False\n",
      "item: Highland Park Whisky Svein Highland Park 1l, has a brand: False\n",
      "item: Glenlivet Whisky Nadurra Peated Glenlivet 1L, has a brand: False\n",
      "item: Johnnie Walker Whisky Blue Label King George Johnnie Walker 750ml, has a brand: True\n",
      "item: Craigellachie Whisky Craigellachie 13 Anos 1L, has a brand: False\n",
      "item: Johnnie Walker Whisky Black Label Johnnie Walker 500ml, has a brand: True\n",
      "item: Jack Daniel's Whisky Sinatra Century Jack Daniel's 1L, has a brand: False\n",
      "item: Jack Daniel's Pack Whiskey Single Barrel Jack Daniels 2x750ml, has a brand: False\n",
      "item: Glenfiddich Whisky Gran Reserva Maltscotch Glenfiddich 700Ml, has a brand: False\n",
      "item: Isle Of Jura Whisky Isle Of Jura Prophecy 46% 1l, has a brand: False\n",
      "item: Aultmore Whisky 18 anos Aultmore 750ml, has a brand: False\n",
      "item: Chivas Regal Whisky 12 Anos Chivas Regal 4 5L, has a brand: True\n",
      "item: Johnnie Walker Pack Whisky Johnnie Walker Gold Reserve + Vodka Ciroc 2x750ml, has a brand: True\n",
      "item: Johnnie Walker Whisky Gold Route Johnnie Walker 1L, has a brand: True\n",
      "item: Black Bottle Whisky Black Bottle Original Gordon Graham 1L, has a brand: False\n",
      "item: Aberfeldy Whisky 28 anos Aberfeldy 750ml, has a brand: False\n",
      "item: Johnnie Walker Pack Double Black +Talisker Dark Storm Johnnie Walker 2x1L, has a brand: True\n",
      "item: Grant's Pack Grant‚Äôs Family Reserve Caixa 2 x 1L, has a brand: False\n",
      "item: Jack Daniel's Pack Whisky Old No 7 Jack Daniels 2x1,75l, has a brand: False\n",
      "item: Highland Park Whisky Harald Highland Park 700ml, has a brand: False\n",
      "item: Glen Deveron Whisky 30 Anos Glen Deveron 750Ml, has a brand: False\n",
      "item: Black Bottle Whisky Black Bottle Scotch Blend 40% 2X1L, has a brand: False\n",
      "item: Grant's Whisky Grant's 1L, has a brand: False\n",
      "item: Dalmore Dalmore Valour 1.00L X 12 70Cl, has a brand: False\n",
      "item: White Horse Pack Whisky White Horse 4x1l, has a brand: False\n",
      "item: John Jameson Whisky Bold Jameson 1L, has a brand: False\n",
      "item: Dewar's Whisky Dewar White Label 2X1L, has a brand: False\n",
      "item: Johnnie Walker Whisky Red Label Johnnie Walker 500Ml, has a brand: True\n",
      "item: Dewar's Whisky Dewars 15 Anos 1L, has a brand: False\n",
      "item: Glen Deveron Whisky Glen Deveron 16 Anos 2X1L, has a brand: False\n",
      "item: Aberfeldy Pack Whisky 12 anos Aberfeldy 40 2x750ml, has a brand: False\n",
      "item: Wild Turkey Wild Turkey 81 Campari 1l, has a brand: False\n",
      "item: Glenfiddich Whisky Reserve Cask Glenfiddich 200Ml, has a brand: False\n",
      "item: Jack Daniel's Pack Whiskey Old No. 7 Jack Daniels 2x1l, has a brand: False\n",
      "item: Jack Daniel's Pack Whiskey Old No 7 Jack Daniels 2x500ml, has a brand: False\n",
      "item: Johnnie Walker Pack Miniaturas Explorers Club Collection Johnnie Walker 3x200ml, has a brand: True\n",
      "item: Chivas Regal Pack Whisky Chivas Brothers Blend 1l + 1 Whisky 18Yo 750ml, has a brand: True\n",
      "item: Royal Brackla Whisky 16 anos Royal Brackla 750ml, has a brand: False\n",
      "item: Dewar's Pack Whisky 15 anos Dewar's 2x1l, has a brand: False\n",
      "item: Aultmore Whisky 21 anos Aultmore 750ml, has a brand: False\n",
      "item: Wild Turkey Pack 81 Wild Turkey 2x1l, has a brand: False\n",
      "item: John Jameson Whisky Irish Jameson 200Ml, has a brand: False\n",
      "item: Dewar's Whisky White Label Dewar's 1L, has a brand: False\n",
      "item: Highland Park Whisky 18 anos Sigurd Highland Park 700ml, has a brand: False\n",
      "item: Aberfeldy Whisky Aberfeldy 18 Anos 1L, has a brand: False\n",
      "item: Ballantine's Whisky Limited Ballantines 700Ml, has a brand: False\n",
      "item: Grant's Whisky Family Reserve Mini Grants 50ml, has a brand: False\n",
      "item: Wild Turkey Pack Wild Turkey 101 2x1l, has a brand: False\n",
      "item: William Lawson's Whisky William Lawson S Finest Blend Bacardi 1L, has a brand: False\n",
      "item: Aero Top's Pack Singleton Glendullan Classic 1+ Deluxe 12 anos Buchanan's 2x1l, has a brand: False\n",
      "item: Johnnie Walker Whisky Platinum 18 anos Johnnie Walker 1l, has a brand: True\n",
      "item: Dewar's Whisky Dewarsspecial Reserve 12 Anos 1L, has a brand: False\n",
      "item: Glen Deveron Whisky 20 Anos Glen Deveron 1L, has a brand: False\n",
      "item: John Jameson Whisky Irish Mini Jameson 50Ml, has a brand: False\n",
      "item: Chivas Regal Pack 1 Whisky Blended 12 Anos Chivas Brothers + 1 Whisky Blended Scotch Chivas Regal 2 x 1L, has a brand: True\n",
      "item: Chivas Regal Pack Whisky Extra 1l + Whisky 18 anos Chivas Regal 750ml, has a brand: True\n",
      "item: Aberfeldy Whisky 12 anos Aberfeldy 2x750ml, has a brand: False\n",
      "item: Ballantine's Whisky Ballantines Finest 200Ml, has a brand: False\n",
      "item: Royal Brackla Whisky 12 anos Royal Brackla 1l, has a brand: False\n",
      "item: Knob Creek Whisky Knob Creek 1l, has a brand: False\n",
      "item: Cutty Sark Whisky Cutty Sark 2x1l, has a brand: False\n",
      "item: J & B Whisky Rare J&B 200ml, has a brand: False\n",
      "item: Kininvie Whisky Kininvie 17 anos Glenfiddich 350ml, has a brand: False\n",
      "item: Chivas Regal Whisky 18 anos Ultimate Cask Collection American Oak Chivas Regal 1l, has a brand: True\n",
      "item: Jim Beam Jim Beam White 3X1l, has a brand: False\n",
      "item: Jim Beam Pack Whisky White + Honey Jim Beam 2x1l, has a brand: False\n",
      "item: Dewar's Whisky Dewar White Label 1L, has a brand: False\n",
      "item: Chivas Regal Whisky 12 Anos Flask Chivas Regal 200Ml, has a brand: True\n",
      "item: Johnnie Walker Pack Gold Label Reserve 750ml + Cardhu Malt 12 anos Johnnie Walker 700ml, has a brand: True\n",
      "item: Glenfiddich Whisky Select Cask Collection Glenfiddich 50Ml, has a brand: False\n",
      "item: Jack Daniel's Pack Whiskey Gentleman + Single Barrel 100 Proof Jack Daniel's 2x750ml, has a brand: False\n",
      "item: Dewar's Whisky 18 Anos Dewar's 1l, has a brand: False\n",
      "item: Michel Lynch Whisky Moon Harbour Michel Lynch 750ml, has a brand: False\n",
      "item: Glenfiddich Whisky Cask Collection Glenfiddich 200Ml, has a brand: False\n",
      "item: Canadian Club Whiskey Canadian Club 1l, has a brand: False\n",
      "item: Ballantine's Whisky Ballantine 12 Anos 2X1L, has a brand: False\n",
      "item: Ballantine's Mini Whisky Ballantines Finest 50Ml, has a brand: False\n",
      "item: Knob Creek Pack Whisky Knob Creek 2x1l, has a brand: False\n",
      "item: Jim Beam Whisky Apple Jim Beam 1l, has a brand: False\n",
      "item:  Pack Whisky Special Reserve 12 anos Dewar's 2x1l, has a brand: False\n",
      "item: Jim Beam Pack Whisky Honey + Apple Jim Beam 2x1l, has a brand: False\n",
      "item: Johnnie Walker Whisky Black Label Johnnie Walker 200ml, has a brand: True\n",
      "item: Famous Grouse Whisky Mellow Gold The Famous Grouse 1l, has a brand: False\n",
      "item: Something Special Whisky Something Special 3X1l, has a brand: False\n",
      "item: Balvenie Whisky 25 Anos Triple Cask Balvenie 700Ml, has a brand: False\n",
      "item: Glenfiddich Whisky Age Of Discovery Red Wine Cask 19 Anos Glenfiddich 700Ml, has a brand: False\n",
      "item: Chivas Regal Whisky 18 anos French Oak Chivas Regal 1l, has a brand: True\n",
      "item: Bruichladdich Whisky Black Art Bruichladdich 700ml, has a brand: False\n",
      "item: Whyte & Mackay Whisky Whyte & Mackay Special 1L, has a brand: False\n",
      "item: Tullamore Dew Pack Tullamore Dew 2X1L, has a brand: False\n",
      "item: Johnnie Walker Pack Whisky Red Label 2x1l + J&B 1l + White Horse 1l Johnnie Walker, has a brand: True\n",
      "item: Johnnie Walker Johnnie Walker Ecc The Adventurer 4X1l, has a brand: True\n",
      "item: Glenfiddich Whisky Rare Oak 25 Anos Glenfiddich 700Ml, has a brand: False\n",
      "item: Craigellachie Whisky Craigellachie 19 Anos 1L, has a brand: False\n",
      "item: Jack Daniel's Pack Whiskey Gold Old No 27 Jack Daniel's 2x700ml, has a brand: False\n",
      "item: Johnnie Walker Pack Blue Label Johnnie Walker + 2 Copos 750ml, has a brand: True\n",
      "item: Chivas Regal Whisky 25 Anos Chivas 700Ml, has a brand: True\n",
      "item: Ballantine's Whisky Ballantines 30 Anos 700Ml, has a brand: False\n",
      "item: Buchanan Whisky Redseal Buchanans 750ml, has a brand: False\n",
      "item: Dewar's Whisky Signature Dewar's 750ml, has a brand: False\n",
      "item: Chivas Regal Whisky Chivas Regal 18 anos 750 ml, has a brand: True\n",
      "item: Old Parr Whisky De Luxe 12 Anos Old Parr 1l, has a brand: False\n",
      "item: Johnnie Walker Whisky Blue Label Johnnie Walker 750ml, has a brand: True\n",
      "item: Ballantine's Ballantine's   3, has a brand: False\n",
      "item: Chivas Regal Whisky Super Premium Extra Chivas 3X1l, has a brand: True\n",
      "item: Glenfiddich Whisky Gran Reserva Malt Scotch 21 anos Rum Finish Glenfiddich 2X700ml, has a brand: False\n",
      "item: Jack Daniel's Twin Pack Whisky Tennessee Fire 1L + Tennessee Honey Jack Daniel's 1L, has a brand: False\n",
      "item: Royal Brackla Whisky 21 anos Royal Brackla 750ml, has a brand: False\n",
      "item: Jim Beam Pack Whisky Apple Jim Beam 2x1l, has a brand: False\n",
      "item: Jim Beam Pack Whisky White + Apple Jim Beam 2x1l, has a brand: False\n",
      "item: Dewar's Pack Whisky 18 anos Dewar's 2x1l, has a brand: False\n",
      "item: Glen Grant Whisky 12 anos Glen Grant 1l, has a brand: False\n",
      "item: Isle Of Jura Pack Isle Of Jura Jura Prophecy 2x1l, has a brand: False\n",
      "item: Bunnahabhain Whisky Eirigh Na Greine Bunnahabhain 1l, has a brand: False\n",
      "item: Famous Grouse Pack Whisky Smoky Black 40 2 X 1L, has a brand: False\n",
      "item: Johnnie Walker Pack Whisky Double Black + Gold Reserve Johnnie Walker 2x750ml, has a brand: True\n",
      "item: Singleton Pack Singleton Glendullan Classic 2 X 1L, has a brand: False\n",
      "item: Singleton Pack Singleton Glendullan Double Matured 2 X 1L, has a brand: False\n",
      "item: Johnnie Walker Pack Whisky Johnnie Walker Green Label 43% 6 X 750 ml, has a brand: True\n",
      "item: Dewar's Pack Whisky Dewar's White Label 4 X 1L, has a brand: False\n",
      "item: Makers Mark Pack Whisky Makers Mark Bourbon 2 X 1L, has a brand: False\n",
      "item: Makers Mark Pack Whisky Makers Mark 4 X 1L, has a brand: False\n",
      "item: Woodford Reserve Pack Whisky Woodford Reserve 2 X 1L, has a brand: False\n",
      "item: Johnnie Walker Whisky Black Label Trpl Cask 40% 1L Johnnie Walker, has a brand: True\n",
      "item: Chivas Regal Whisky Chivas Regal 15 Anos 40% 1 Litro, has a brand: True\n",
      "item: Dewar's Whisky Dewar's 15 Anos Gift Tin 1 Litro, has a brand: False\n",
      "item: Isle Of Jura Whisky Isle of Jura The Road 1L, has a brand: False\n",
      "item: Isle Of Jura Whisky Isle of Jura The Sound 1L, has a brand: False\n",
      "item: Jack Daniel's Whisky Jack Daniel's Bottled in Bond 1L, has a brand: False\n",
      "item: Johnnie Walker Miniaturas Johnnie Walker 4x200ml, has a brand: True\n",
      "item: Dimple Whisky Dimple De Luxe 15 Anos 1L, has a brand: False\n",
      "item: Ballantine's Whisky Ballantines Finest 375Ml, has a brand: False\n",
      "item: Johnnie Walker Whisky Blue Label Limited Edition Brazil Johhnie Walker 750ml, has a brand: True\n",
      "item: Chivas Regal Whisky 18 Anos Pininfarina Chivas Regal 750ml, has a brand: True\n",
      "item: Old Parr Pack Whisky Old Parr 12 X 1L, has a brand: False\n",
      "item: Chivas Regal Pack Whisky 18 Anos Chivas Regal 2X750ml, has a brand: True\n",
      "item: Macallan Whisky Select Oak Macallan 1L, has a brand: False\n",
      "item: Johnnie Walker Whisky Swing Johnnie Walker 750ml, has a brand: True\n",
      "item: Johnnie Walker Pack Whisky Swing Johnnie Walker 3x750ml, has a brand: True\n",
      "item: Something Special Whisky Something Special 12X1l, has a brand: False\n",
      "item: Woodford Reserve Pack Whisky Woodford Reserve 2x750ml, has a brand: False\n",
      "item: Dalmore Whisky Single Malt 15 Anos Dalmore 1L, has a brand: False\n",
      "item: Logan Whisky Heritage Blend Logan 700Ml, has a brand: False\n",
      "item: Johnnie Walker Whisky Black Label Johnnie Walker 3L, has a brand: True\n",
      "item: Johnnie Walker Whisky Platinum 18 Anos Johnnie Walker 750Ml, has a brand: True\n",
      "item: Jim Beam Whisky Black Jim Bourbon Jim Beam 1L, has a brand: False\n",
      "item: Macallan Whisky Estate Reserve Macallan 700ml, has a brand: False\n",
      "item: Chivas Regal Whisky Revolve 1801 Chivas Regal 750Ml, has a brand: True\n",
      "item: Macallan Whisky Rare Cask Black Macallan 700ml, has a brand: False\n",
      "item: Glenlivet Whisky Nadurra First Fill Glenlivet 1L, has a brand: False\n",
      "item: Jim Beam Jim Beam Bourbon 2X1l, has a brand: False\n",
      "item: Dalmore Whisky 18 Anos Single Malt Dalmore 700Ml, has a brand: False\n",
      "item: Black & White Whisky Black White 1L, has a brand: False\n",
      "item: Black & White Pack Whisky Black & White 4x1l, has a brand: False\n",
      "item: Johnnie Walker Whisky Johnnie Walker Platinum + Xr21 750ml, has a brand: True\n",
      "item: Chivas Regal Whisky 12 Anos Chivas Regal 50Ml, has a brand: True\n",
      "item: Johnnie Walker Whisky Double Blackshadow Limited Edition Johnnie Walker 1L, has a brand: True\n",
      "item: Ballantine's Whisky Ballantines 21 Anos 700Ml, has a brand: False\n",
      "item: Chivas Regal Whisky 18 Anos Chivas Regal 200Ml, has a brand: True\n",
      "item: Johnnie Walker Whisky Black Label Johnnie Walker 200Ml, has a brand: True\n",
      "item: William Lawson's Whisky William Lawson's 13 anos Bacardi 1L, has a brand: False\n",
      "item: Whyte & Mackay Whisky 13 anos Whyte & Mackay 1l, has a brand: False\n",
      "item: Isle Of Jura Whisky Turas Mara Isle Of Jura 1l, has a brand: False\n",
      "item: Jim Beam Pack Jim Beam Black 6 Anos 43% 3 x 1L, has a brand: False\n",
      "item: Singleton Malte Liberty Singleton 1l, has a brand: False\n",
      "item: Woodford Pack Whisky Woodford 750ml + Gentleman Jack 1l, has a brand: False\n",
      "item: Glenfiddich Whisky Select Cask Collection Glenfiddich 500ml, has a brand: False\n",
      "item: Aberfeldy Whisky Aberfeldy 21 Anos 750ml, has a brand: False\n",
      "item: Singleton Whisky Singleton Trinity 1L, has a brand: False\n",
      "item: Johnnie Walker Whisky Blue Label Dunhill Johnnie Walker 1L, has a brand: True\n",
      "item: Johnnie Walker Pack Whisky White Horse + Johnnie Walker Red Label + Black & White + J&b Rare Johnnie Walker 4x1l, has a brand: True\n",
      "item: Johnnie Walker Whisky Gold + Platinum Johnnie Walker 2x750ml, has a brand: True\n",
      "item: Glenfiddich Whisky 15 Anos Glenfiddich 1L, has a brand: False\n",
      "item: Glenfiddich Whisky Ancient 18 Anos Glenfiddich 1L, has a brand: False\n",
      "item: Chivas Regal Whisky Chivas Regal Tin 1L, has a brand: True\n",
      "item: Craigellachie Whisky 31 anos Craigellachie 750ml, has a brand: False\n",
      "item: Macallan Whisky 25 anos Oscuro The Macallan 700ml, has a brand: False\n",
      "item: Jack Daniel's Pack Whiskey Single Barrel 100 Proof + Woodford Reserve Jack Daniel's 2x750ml, has a brand: False\n",
      "item: William Lawson's Pack Whisky 13 anos William Lawson 2x1l, has a brand: False\n",
      "item: William Lawson's Pack Finest Blend William Lawson 2x1l, has a brand: False\n",
      "item: Glen Grant Whisky 10 anos Glen Grant 1l, has a brand: False\n",
      "item: Chivas Regal Pack Glenlivet Master Distiller's Reserve + 18 anos Chivas Regal 2x750ml, has a brand: True\n",
      "item: Bulleit Whisky Bourbon Bulleit 1l, has a brand: False\n",
      "item: Jim Beam Pack Jim Beam Black 6 Anos 43% 4 x 1L, has a brand: False\n",
      "item: Jack Daniel's Kit Whisky Tennessee Honey + Copo Jack Daniels 750ml, has a brand: False\n",
      "item: Jack Daniel's Kit Whiskey Old No7 + 2 Copos Jack Daniels 750ml, has a brand: False\n",
      "item: Johnnie Walker Whisky Blue Label Johnnie Walker 750Ml, has a brand: True\n",
      "item: Glenmorangie Pack Whisky Glenmorangie Miniatures 4X1L, has a brand: False\n",
      "item: Jack Daniel's Whiskey Silver Select Jack Daniel's 750ml, has a brand: False\n",
      "item: Chivas Regal Whisky 12 Anos Chivas Regal 500Ml, has a brand: True\n",
      "item: Johnnie Walker Whisky Gold Label Reserve Bullion Edition Johnnie Walker 750Ml, has a brand: True\n",
      "item: Isle Of Jura Whisky Jura Prophecy 46% 70Cl, has a brand: False\n",
      "item: Highland Park Whisky Single Malt Highland Park 700ml, has a brand: False\n",
      "item: Logan Whisky Logan De Luxe 12 Anos 1L, has a brand: False\n",
      "item: Bruichladdich Whisky The Organic Scottish Barley Bruichladdich 1l, has a brand: False\n",
      "item: Isle Of Jura Jura Miniature Pack 43% 3X5Cl, has a brand: False\n",
      "item: Royal Salute Whisky Destiny 38 Anos Royal Salute 500Ml, has a brand: False\n",
      "item: Johnnie Walker Pack Whisky Johnnie Walker 4X200ml, has a brand: True\n",
      "item: Whyte & Mackay Whisky 30anos Whyte & Mackay 700ml, has a brand: False\n",
      "item: J & B Whisky Pagoda Reserva 15 Anos J&B 1L, has a brand: False\n",
      "item: Dewar's Whisky Dewars 12Yo Liter Gift Box 40 1L, has a brand: False\n",
      "item: Glenmorangie Whisky Nectar D Or Glenmorangie 1L, has a brand: False\n",
      "item: Glenlivet Whisky Glenlivet 15 Anos 750Ml, has a brand: False\n",
      "item: Grant's Whisky Premium Bourb Fin 12 Anos Grants 1L, has a brand: False\n",
      "item: Glenfiddich Whisky Distillery Edition 15 Anos Glenfiddich 1L, has a brand: False\n",
      "item: Dimple Whisky Dimple De Luxe 15 Anos 375ml, has a brand: False\n",
      "item: Black & White Whisky Black White 375Ml, has a brand: False\n",
      "item: Grant's Whisky Family Reserve Grant's 1l, has a brand: False\n",
      "item: Johnnie Walker Whisky Black Labelshadow Johnnie Walker 1L, has a brand: True\n",
      "item: Famous Grouse Whisky The Famous Grouse Familysnow Finest Black 40 3X50Ml, has a brand: False\n",
      "item: Famous Grouse Whisky The Snow The Famous Grouse 1L, has a brand: False\n",
      "item: Glenlivet Whisky 21 Anos Glenlivet 750Ml, has a brand: False\n",
      "item: Glenlivet Whisky 16 Anos Glenlivet 750Ml, has a brand: False\n",
      "item: Glenfiddich Whisky Age Of Discovery 19 Anos Glenfiddich 700Ml, has a brand: False\n",
      "item: Glenfiddich Whisky Edicao Limitada 125 Anos Glenfiddich 700Ml, has a brand: False\n",
      "item: Glenfiddich Whisky Bourbon Age Of Discovery 19 Anos Glenfiddich 700Ml, has a brand: False\n",
      "item: Jack Daniel's Pack Whiskey Gentleman Jack + 2 Copos Jack Daniel's 750ml, has a brand: False\n",
      "item: Isle Of Jura Whisky 16 anos Single Malt 40% Jura 1L, has a brand: False\n",
      "item: Glenfiddich Whisky Malte 12 Anos Glenfiddich 50ml, has a brand: False\n",
      "item: Glenmorangie Whisky Quinta Ruban Glenmorangie 1L, has a brand: False\n",
      "item: Famous Grouse Whisky Black Grouse The Famous Grouse 1L, has a brand: False\n",
      "item: Chivas Regal Whisky Chivas Regal 18Yo Pininfarina 750Ml L1, has a brand: True\n",
      "item: Johnnie Walker Whiskey Blue Label Cartn Johnnie Walker 750ml, has a brand: True\n",
      "item: John Jameson Jameson 12Yo 100Cl, has a brand: False\n",
      "item: Glenfiddich Glenfiddich 12Yo 100Cl, has a brand: False\n",
      "item: Whyte & Mackay Whisky Special Whyte & Mackay 2x1l, has a brand: False\n",
      "item: Royal Salute Whisky Diamond Jubilee Royal Salute 700ml, has a brand: False\n",
      "item: Aberfeldy Aberfeldy 16 Anos Madeira Finish 1L, has a brand: False\n",
      "item: Aberfeldy Whisky Aberfeldy 21 anos Madeira Finish 700ml, has a brand: False\n",
      "item: Highland Park Whisky Highland Park Loyalty Wolf 14 Anos 1L, has a brand: False\n",
      "item: Highland Park Whisky Highland Park Spirit Bear 40% 1L, has a brand: False\n"
     ]
    }
   ],
   "source": [
    "brands = ['Johnnie Walker', 'Chivas Regal']\n",
    "for i in data['Product Name']:\n",
    "    \n",
    "    contains_brand = any(brand in i for brand in brands)\n",
    "    print(\"item: {0}, has a brand: {1}\".format(i, contains_brand))\n",
    "\n",
    "#if any(ext in url_string for ext in extensionsToCheck):\n",
    "#print(contains_brand)"
   ]
  },
  {
   "cell_type": "code",
   "execution_count": 5,
   "metadata": {
    "scrolled": true
   },
   "outputs": [
    {
     "name": "stdout",
     "output_type": "stream",
     "text": [
      "object\n"
     ]
    }
   ],
   "source": [
    "print(data['Product Name'].dtypes)"
   ]
  },
  {
   "cell_type": "code",
   "execution_count": 6,
   "metadata": {},
   "outputs": [],
   "source": [
    "setDF = pd.Series(data['Product Name'])"
   ]
  },
  {
   "cell_type": "code",
   "execution_count": 42,
   "metadata": {
    "scrolled": true
   },
   "outputs": [
    {
     "data": {
      "text/plain": [
       "0    Johnnie Walker Pack Whisky Black Label Johnnie...\n",
       "1    Johnnie Walker Pack Whisky Red Label Johnnie W...\n",
       "2    Chivas Regal Pack Whisky 12 Anos Chivas Regal ...\n",
       "3    Johnnie Walker Pack Whisky Black Label 12 Anos...\n",
       "4    Johnnie Walker Pack Whisky Double Black Johnni...\n",
       "Name: Product Name, dtype: object"
      ]
     },
     "execution_count": 42,
     "metadata": {},
     "output_type": "execute_result"
    }
   ],
   "source": [
    "setDF.head()"
   ]
  },
  {
   "cell_type": "code",
   "execution_count": 8,
   "metadata": {},
   "outputs": [
    {
     "name": "stdout",
     "output_type": "stream",
     "text": [
      "Johnnie Walker \n"
     ]
    },
    {
     "data": {
      "text/plain": [
       "'(Johnnie Walker\\\\s|Johnnie Walker Scotch)'"
      ]
     },
     "execution_count": 8,
     "metadata": {},
     "output_type": "execute_result"
    }
   ],
   "source": [
    "import re\n",
    "#m = re.match(r\"(?P<first_name>\\w+) (?P<last_name>\\w+)\", \"Malcolm Reynolds\")\n",
    "pattern = r'(Johnnie Walker\\s|Johnnie Walker Scotch)'\n",
    "pattern2 = r'[0-9]+\\s[xX]\\s\\w+'\n",
    "#sequence = \"Johnnie Walker Pack Whisky Gold Reserve Johnnie Walker 6X750ml\"\n",
    "#sequence = \"Jack Daniel's Pack Whisky Old No. 7 Jack Daniels 6 X 1L\"\n",
    "sequence = \"Johnnie Walker Pack Whisky Red Label Johnnie Walker 12 X 1L\"\n",
    "if re.search(pattern, sequence):\n",
    "        print(re.search(pattern, sequence).group())\n",
    "else: \n",
    "        print(\"Not a match!\")\n",
    "pattern"
   ]
  },
  {
   "cell_type": "code",
   "execution_count": 10,
   "metadata": {
    "scrolled": false
   },
   "outputs": [],
   "source": [
    "pattern = r'(Johnnie Walker\\s|Johnnie Walker Scotch)'\n",
    "prodArray = []\n",
    "for i in setDF:\n",
    "    if re.search(pattern, i):\n",
    "        prod = re.search(pattern, i).group()\n",
    "        prodArray.append(prod)\n",
    "    else: \n",
    "        prodArray.append('NaN')\n",
    "#prodArray"
   ]
  },
  {
   "cell_type": "code",
   "execution_count": 48,
   "metadata": {},
   "outputs": [
    {
     "name": "stdout",
     "output_type": "stream",
     "text": [
      "[True, True, 'NaN', True, True, True, True, 'NaN', True, 'NaN', 'NaN', True, True, True, 'NaN', True, 'NaN', 'NaN', 'NaN', True, True, 'NaN', 'NaN', 'NaN', 'NaN', 'NaN', True, 'NaN', True, 'NaN', 'NaN', True, 'NaN', True, 'NaN', 'NaN', 'NaN', 'NaN', True, 'NaN', True, True, 'NaN', 'NaN', 'NaN', 'NaN', 'NaN', 'NaN', 'NaN', 'NaN', True, 'NaN', 'NaN', 'NaN', 'NaN', 'NaN', 'NaN', True, 'NaN', 'NaN', 'NaN', 'NaN', True, 'NaN', 'NaN', 'NaN', 'NaN', 'NaN', 'NaN', True, True, 'NaN', 'NaN', 'NaN', 'NaN', 'NaN', 'NaN', 'NaN', 'NaN', 'NaN', 'NaN', 'NaN', 'NaN', 'NaN', 'NaN', 'NaN', 'NaN', 'NaN', 'NaN', 'NaN', 'NaN', 'NaN', 'NaN', True, 'NaN', 'NaN', 'NaN', 'NaN', 'NaN', 'NaN', 'NaN', 'NaN', True, 'NaN', 'NaN', 'NaN', 'NaN', 'NaN', 'NaN', 'NaN', True, 'NaN', True, 'NaN', 'NaN', 'NaN', 'NaN', True, 'NaN', 'NaN', 'NaN', 'NaN', 'NaN', 'NaN', 'NaN', 'NaN', 'NaN', 'NaN', 'NaN', 'NaN', 'NaN', 'NaN', 'NaN', 'NaN', 'NaN', 'NaN', 'NaN', 'NaN', 'NaN', 'NaN', 'NaN', 'NaN', 'NaN', 'NaN', 'NaN', 'NaN', 'NaN', 'NaN', 'NaN', 'NaN', 'NaN', 'NaN', 'NaN', 'NaN', True, 'NaN', True, 'NaN', 'NaN', 'NaN', 'NaN', 'NaN', 'NaN', True, True, 'NaN', 'NaN', True, 'NaN', 'NaN', 'NaN', 'NaN', 'NaN', 'NaN', 'NaN', 'NaN', 'NaN', 'NaN', True, 'NaN', 'NaN', 'NaN', 'NaN', 'NaN', 'NaN', 'NaN', True, 'NaN', 'NaN', 'NaN', 'NaN', 'NaN', 'NaN', 'NaN', 'NaN', 'NaN', 'NaN', 'NaN', 'NaN', 'NaN', 'NaN', True, 'NaN', 'NaN', 'NaN', 'NaN', 'NaN', 'NaN', 'NaN', 'NaN', 'NaN', 'NaN', 'NaN', 'NaN', 'NaN', 'NaN', 'NaN', 'NaN', 'NaN', True, 'NaN', 'NaN', 'NaN', 'NaN', 'NaN', 'NaN', 'NaN', 'NaN', 'NaN', 'NaN', 'NaN', 'NaN', True, 'NaN', 'NaN', 'NaN', 'NaN', 'NaN', 'NaN', 'NaN', 'NaN', True, True, 'NaN', 'NaN', 'NaN', True, 'NaN', 'NaN', 'NaN', 'NaN', 'NaN', 'NaN', True, 'NaN', 'NaN', 'NaN', 'NaN', 'NaN', 'NaN', 'NaN', 'NaN', 'NaN', 'NaN', 'NaN', 'NaN', True, 'NaN', 'NaN', True, 'NaN', 'NaN', 'NaN', 'NaN', True, 'NaN', 'NaN', 'NaN', 'NaN', 'NaN', True, 'NaN', 'NaN', True, 'NaN', 'NaN', 'NaN', 'NaN', True, True, 'NaN', 'NaN', 'NaN', 'NaN', True, True, 'NaN', 'NaN', 'NaN', 'NaN', 'NaN', 'NaN', 'NaN', 'NaN', 'NaN', True, 'NaN', True, 'NaN', 'NaN', True, 'NaN', 'NaN', 'NaN', 'NaN', 'NaN', 'NaN', 'NaN', 'NaN', 'NaN', True, True, True, 'NaN', 'NaN', 'NaN', 'NaN', 'NaN', 'NaN', 'NaN', 'NaN', 'NaN', 'NaN', 'NaN', 'NaN', 'NaN', 'NaN', True, 'NaN', 'NaN', 'NaN', True, 'NaN', 'NaN', 'NaN', 'NaN', 'NaN', 'NaN', True, 'NaN', 'NaN', 'NaN', 'NaN', 'NaN', 'NaN', 'NaN', 'NaN', 'NaN', 'NaN', True, 'NaN', 'NaN', 'NaN', 'NaN', 'NaN', 'NaN', 'NaN', 'NaN', 'NaN', 'NaN', 'NaN', 'NaN', 'NaN', True, 'NaN', 'NaN', 'NaN', 'NaN', 'NaN', 'NaN', 'NaN', 'NaN']\n"
     ]
    }
   ],
   "source": [
    "pattern = r'(Johnnie Walker\\s|Johnnie Walker Scotch)'\n",
    "prodArray = []\n",
    "for i in setDF:\n",
    "    if re.search(pattern, i):\n",
    "        prod = re.search(pattern, i)\n",
    "        #print(prod)\n",
    "        prodArray.append(True)\n",
    "    else: \n",
    "        prodArray.append('NaN')\n",
    "print(prodArray)"
   ]
  },
  {
   "cell_type": "code",
   "execution_count": 49,
   "metadata": {},
   "outputs": [],
   "source": [
    "data['Johnnie Walker'] = prodArray"
   ]
  },
  {
   "cell_type": "code",
   "execution_count": 50,
   "metadata": {},
   "outputs": [
    {
     "data": {
      "text/html": [
       "<div>\n",
       "<style scoped>\n",
       "    .dataframe tbody tr th:only-of-type {\n",
       "        vertical-align: middle;\n",
       "    }\n",
       "\n",
       "    .dataframe tbody tr th {\n",
       "        vertical-align: top;\n",
       "    }\n",
       "\n",
       "    .dataframe thead th {\n",
       "        text-align: right;\n",
       "    }\n",
       "</style>\n",
       "<table border=\"1\" class=\"dataframe\">\n",
       "  <thead>\n",
       "    <tr style=\"text-align: right;\">\n",
       "      <th></th>\n",
       "      <th>Product Name</th>\n",
       "      <th>Johnnie Walker</th>\n",
       "    </tr>\n",
       "  </thead>\n",
       "  <tbody>\n",
       "    <tr>\n",
       "      <th>0</th>\n",
       "      <td>Johnnie Walker Pack Whisky Black Label Johnnie...</td>\n",
       "      <td>True</td>\n",
       "    </tr>\n",
       "    <tr>\n",
       "      <th>1</th>\n",
       "      <td>Johnnie Walker Pack Whisky Red Label Johnnie W...</td>\n",
       "      <td>True</td>\n",
       "    </tr>\n",
       "    <tr>\n",
       "      <th>2</th>\n",
       "      <td>Chivas Regal Pack Whisky 12 Anos Chivas Regal ...</td>\n",
       "      <td>NaN</td>\n",
       "    </tr>\n",
       "    <tr>\n",
       "      <th>3</th>\n",
       "      <td>Johnnie Walker Pack Whisky Black Label 12 Anos...</td>\n",
       "      <td>True</td>\n",
       "    </tr>\n",
       "    <tr>\n",
       "      <th>4</th>\n",
       "      <td>Johnnie Walker Pack Whisky Double Black Johnni...</td>\n",
       "      <td>True</td>\n",
       "    </tr>\n",
       "  </tbody>\n",
       "</table>\n",
       "</div>"
      ],
      "text/plain": [
       "                                        Product Name Johnnie Walker\n",
       "0  Johnnie Walker Pack Whisky Black Label Johnnie...           True\n",
       "1  Johnnie Walker Pack Whisky Red Label Johnnie W...           True\n",
       "2  Chivas Regal Pack Whisky 12 Anos Chivas Regal ...            NaN\n",
       "3  Johnnie Walker Pack Whisky Black Label 12 Anos...           True\n",
       "4  Johnnie Walker Pack Whisky Double Black Johnni...           True"
      ]
     },
     "execution_count": 50,
     "metadata": {},
     "output_type": "execute_result"
    }
   ],
   "source": [
    "data.head()"
   ]
  },
  {
   "cell_type": "code",
   "execution_count": 13,
   "metadata": {},
   "outputs": [
    {
     "data": {
      "text/plain": [
       "0     Explorers' Club The Adventurer Scotch\n",
       "1     Explorers' Club The Gold Route Scotch\n",
       "2    Explorers' Club The Royal Route Scotch\n",
       "3     Explorers' Club The Spice Road Scotch\n",
       "4                Johnnie Walker 1820 Scotch\n",
       "Name: Brand Line, dtype: object"
      ]
     },
     "execution_count": 13,
     "metadata": {},
     "output_type": "execute_result"
    }
   ],
   "source": [
    "# remove scotch and johnnie walker now that we found them\n",
    "bLine = pd.Series(brands['Brand Line'])\n",
    "bLine.head()"
   ]
  },
  {
   "cell_type": "code",
   "execution_count": 24,
   "metadata": {},
   "outputs": [
    {
     "name": "stdout",
     "output_type": "stream",
     "text": [
      "[\"Explorers' Club The Adventurer \", \"Explorers' Club The Gold Route \", \"Explorers' Club The Royal Route \", \"Explorers' Club The Spice Road \", ' 1820 ', ' 18yr', ' Black ', \" Blenders' Batch\", ' Blue King George V ', ' Blue ', ' Collection ', ' Double Black ', ' Excelsior', ' Gold 18yr ', ' Gold Reserve ', ' Green Malt ', ' Island Green', ' Oldest ', ' Platinum 18yr ', ' Premier ', ' Quest', ' Red Rye Finish', ' Red ', ' XR ', 'Swing ', 'The John Walker Odyssey ', 'The John Walker ']\n"
     ]
    }
   ],
   "source": [
    "#line = 'the quick brown fox jumped over a lazy dog'\n",
    "#regex = re.compile('fox')\n",
    "#regex.sub('BEAR', line)\n",
    "spArray =[]\n",
    "pattern1 = r'(Johnnie Walker|Scotch)'\n",
    "pattern = re.compile('Johnnie Walker|Scotch')\n",
    "for i in bLine:\n",
    "    sp =pattern.sub('',i)\n",
    "    spArray.append(sp)\n",
    "    #print(sp)\n",
    "print(spArray)"
   ]
  },
  {
   "cell_type": "code",
   "execution_count": 55,
   "metadata": {},
   "outputs": [
    {
     "data": {
      "text/html": [
       "<div>\n",
       "<style scoped>\n",
       "    .dataframe tbody tr th:only-of-type {\n",
       "        vertical-align: middle;\n",
       "    }\n",
       "\n",
       "    .dataframe tbody tr th {\n",
       "        vertical-align: top;\n",
       "    }\n",
       "\n",
       "    .dataframe thead th {\n",
       "        text-align: right;\n",
       "    }\n",
       "</style>\n",
       "<table border=\"1\" class=\"dataframe\">\n",
       "  <thead>\n",
       "    <tr style=\"text-align: right;\">\n",
       "      <th></th>\n",
       "      <th>Product Name</th>\n",
       "      <th>Johnnie Walker</th>\n",
       "    </tr>\n",
       "  </thead>\n",
       "  <tbody>\n",
       "    <tr>\n",
       "      <th>0</th>\n",
       "      <td>Johnnie Walker Pack Whisky Black Label Johnnie...</td>\n",
       "      <td>True</td>\n",
       "    </tr>\n",
       "    <tr>\n",
       "      <th>1</th>\n",
       "      <td>Johnnie Walker Pack Whisky Red Label Johnnie W...</td>\n",
       "      <td>True</td>\n",
       "    </tr>\n",
       "    <tr>\n",
       "      <th>3</th>\n",
       "      <td>Johnnie Walker Pack Whisky Black Label 12 Anos...</td>\n",
       "      <td>True</td>\n",
       "    </tr>\n",
       "    <tr>\n",
       "      <th>4</th>\n",
       "      <td>Johnnie Walker Pack Whisky Double Black Johnni...</td>\n",
       "      <td>True</td>\n",
       "    </tr>\n",
       "    <tr>\n",
       "      <th>5</th>\n",
       "      <td>Johnnie Walker Pack Whisky Red Label Johnnie W...</td>\n",
       "      <td>True</td>\n",
       "    </tr>\n",
       "  </tbody>\n",
       "</table>\n",
       "</div>"
      ],
      "text/plain": [
       "                                        Product Name Johnnie Walker\n",
       "0  Johnnie Walker Pack Whisky Black Label Johnnie...           True\n",
       "1  Johnnie Walker Pack Whisky Red Label Johnnie W...           True\n",
       "3  Johnnie Walker Pack Whisky Black Label 12 Anos...           True\n",
       "4  Johnnie Walker Pack Whisky Double Black Johnni...           True\n",
       "5  Johnnie Walker Pack Whisky Red Label Johnnie W...           True"
      ]
     },
     "execution_count": 55,
     "metadata": {},
     "output_type": "execute_result"
    }
   ],
   "source": [
    "JWdata = data[data['Johnnie Walker'] == True]\n",
    "JWdata.head()"
   ]
  },
  {
   "cell_type": "code",
   "execution_count": 72,
   "metadata": {},
   "outputs": [
    {
     "data": {
      "text/plain": [
       "0    Johnnie Walker Pack Whisky Black Label Johnnie...\n",
       "1    Johnnie Walker Pack Whisky Red Label Johnnie W...\n",
       "3    Johnnie Walker Pack Whisky Black Label 12 Anos...\n",
       "4    Johnnie Walker Pack Whisky Double Black Johnni...\n",
       "5    Johnnie Walker Pack Whisky Red Label Johnnie W...\n",
       "Name: Product Name, dtype: object"
      ]
     },
     "execution_count": 72,
     "metadata": {},
     "output_type": "execute_result"
    }
   ],
   "source": [
    "jwDF = pd.Series(JWdata['Product Name'])\n",
    "jwDF.head()"
   ]
  },
  {
   "cell_type": "code",
   "execution_count": 73,
   "metadata": {},
   "outputs": [],
   "source": [
    "jwbrand = []\n",
    "for sp in spArray:\n",
    "        if sp in jwDF:\n",
    "            print(sp)\n",
    "            #jwbrand.append(sp+i) "
   ]
  },
  {
   "cell_type": "code",
   "execution_count": null,
   "metadata": {},
   "outputs": [],
   "source": []
  },
  {
   "cell_type": "code",
   "execution_count": null,
   "metadata": {},
   "outputs": [],
   "source": []
  }
 ],
 "metadata": {
  "kernelspec": {
   "display_name": "Python 3",
   "language": "python",
   "name": "python3"
  },
  "language_info": {
   "codemirror_mode": {
    "name": "ipython",
    "version": 3
   },
   "file_extension": ".py",
   "mimetype": "text/x-python",
   "name": "python",
   "nbconvert_exporter": "python",
   "pygments_lexer": "ipython3",
   "version": "3.6.4"
  }
 },
 "nbformat": 4,
 "nbformat_minor": 2
}
